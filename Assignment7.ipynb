{
 "cells": [
  {
   "cell_type": "markdown",
   "metadata": {
    "collapsed": true,
    "pycharm": {
     "name": "#%% md\n"
    }
   },
   "source": [
    "# Assignment - 7"
   ]
  },
  {
   "cell_type": "markdown",
   "source": [
    "## 1.编程题\n",
    "- 计算奥运会比赛某个参赛选手的得分。\n",
    "- 假设共有10个裁判,每个裁判给该参赛选手打分(分值在0~10之间),\n",
    "- 去掉一个最高分和一个最低分之后的平均分即为该运动员的最后得分。\n",
    "- 得分测试数据如下:\n",
    "    - 9.37  9.52  9.98  10  9.85  9.73  9.93  9.76  9.81  9.08\n",
    "    - 最终得分为9.74375。\n",
    "- 提示:\n",
    "    - 方法一:\n",
    "        - 1)使用列表的sort()方法对评分升序排序;\n",
    "        - 2)使用列表的pop()方法删除一个最高分;\n",
    "        - 3)使用列表的pop(0)方法删除一个最低分;\n",
    "        - 4)使用内置的sum()方法求出剩余元素之和。\n",
    "    - 方法二:\n",
    "        - 1)使用内置的max()方法求出最高分;\n",
    "        - 2)使用内置的min()方法求出最低分;\n",
    "        - 3)使用列表的remove()方法删除一个最高分和一个最低分。"
   ],
   "metadata": {
    "collapsed": false
   }
  },
  {
   "cell_type": "code",
   "execution_count": 10,
   "outputs": [
    {
     "name": "stdout",
     "output_type": "stream",
     "text": [
      "最终得分为9.743750\n"
     ]
    }
   ],
   "source": [
    "scores = [9.37, 9.52, 9.98, 10, 9.85, 9.73, 9.93, 9.76, 9.81, 9.08]\n",
    "scores.remove(min(scores))\n",
    "scores.remove(max(scores))\n",
    "ave = sum(scores) / len(scores)\n",
    "print(\"最终得分为%f\" % ave)"
   ],
   "metadata": {
    "collapsed": false,
    "pycharm": {
     "name": "#%%\n"
    }
   }
  },
  {
   "cell_type": "markdown",
   "source": [
    "## 2.编程题\n",
    "- 列表中存放了某次考试若干学生的成绩\n",
    "- 请编写程序求出成绩优秀(成绩≥85)学生的人数及所有学生的平均成绩。\n",
    "- 测试数据:[89, 85, 93, 56, 75, 46, 87, 90, 66, 87],优秀人数为6人,平均成绩为77.4。\n",
    "- 提示:\n",
    "    - 使用for…in…结构遍历列表\n",
    "    - Python内置sum函数求总成绩\n",
    "    - len函数求学生人数。"
   ],
   "metadata": {
    "collapsed": false,
    "pycharm": {
     "name": "#%% md\n"
    }
   }
  },
  {
   "cell_type": "code",
   "execution_count": 12,
   "outputs": [
    {
     "name": "stdout",
     "output_type": "stream",
     "text": [
      "成绩优秀(成绩≥85)学生的人数6人及所有学生的平均成绩77.400000\n"
     ]
    }
   ],
   "source": [
    "scores = [89, 85, 93, 56, 75, 46, 87, 90, 66, 87]\n",
    "count = 0\n",
    "for i in scores:\n",
    "    if i >= 85:\n",
    "        count += 1\n",
    "ave = sum(scores) / len(scores)\n",
    "print(\"成绩优秀(成绩≥85)学生的人数是%d人及所有学生的平均成绩是%f\" % (count, ave))"
   ],
   "metadata": {
    "collapsed": false,
    "pycharm": {
     "name": "#%%\n"
    }
   }
  },
  {
   "cell_type": "markdown",
   "source": [
    "## 3.编程题\n",
    "\n",
    "- 求数列F的前15项以及这15项中的最大值、最小值和平均值。数列F的通项公式为:\n",
    "- F(0)=F(1)=1, F(2)=0, 当N>2时F(N)=F(N-1)-2F(N-2)+F(N-3)。要求使用列表保存这15项数据,平均值仅保留小数点后5位。\n",
    "- 提示:\n",
    "    - 1)可以先定义一个只包含数列前三项[1,1,0]的列表,然后通过循环及列表的append方法追加后续的12项。\n",
    "    - 2)使用max(列表)求列表的最大值、min(列表)求列表的最小值、sum(列表)求列表的和、round(数, 小数位数)求某数的四舍五入值。\n",
    "\n",
    "- 输出示例:\n",
    "- 数列的前15项为:[1, 1, 0, -1, 0, 2, 1, -3, -3, 4, 7, -4, -14, 1, 25]\n",
    "- 最大值为:25\n",
    "- 最小值为:-14\n",
    "- 平均值为:1.13333"
   ],
   "metadata": {
    "collapsed": false,
    "pycharm": {
     "name": "#%% md\n"
    }
   }
  },
  {
   "cell_type": "code",
   "execution_count": 24,
   "outputs": [
    {
     "name": "stdout",
     "output_type": "stream",
     "text": [
      "最大值:25, 最小值:-14, 平均值:1.13333\n"
     ]
    }
   ],
   "source": [
    "F = [1, 1, 0]\n",
    "for i in range(3, 15):\n",
    "    num = F[i - 1] - 2 * F[i - 2] + F[i - 3]\n",
    "    F.append(num)\n",
    "F_max = max(F)\n",
    "F_min = min(F)\n",
    "ave = round(sum(F) / len(F), 5)\n",
    "print(\"最大值:%d, 最小值:%d, 平均值:%.5f\" % (F_max, F_min, ave))\n"
   ],
   "metadata": {
    "collapsed": false,
    "pycharm": {
     "name": "#%%\n"
    }
   }
  }
 ],
 "metadata": {
  "kernelspec": {
   "display_name": "Python 3",
   "language": "python",
   "name": "python3"
  },
  "language_info": {
   "codemirror_mode": {
    "name": "ipython",
    "version": 2
   },
   "file_extension": ".py",
   "mimetype": "text/x-python",
   "name": "python",
   "nbconvert_exporter": "python",
   "pygments_lexer": "ipython2",
   "version": "2.7.6"
  }
 },
 "nbformat": 4,
 "nbformat_minor": 0
}