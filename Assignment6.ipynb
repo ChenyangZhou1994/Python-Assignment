{
 "cells": [
  {
   "cell_type": "markdown",
   "metadata": {
    "collapsed": true,
    "pycharm": {
     "name": "#%% md\n"
    }
   },
   "source": [
    "# Assignment - 6"
   ]
  },
  {
   "cell_type": "markdown",
   "source": [
    "## 1.输出三位整数中第一个能被9整除且个位数是5的数。\n",
    "- 【提示】\n",
    "    - 1)获取一个整数n的个位数,可以使用n%10。\n",
    "    - 2)需要使用break语句。"
   ],
   "metadata": {
    "collapsed": false
   }
  },
  {
   "cell_type": "code",
   "execution_count": 1,
   "outputs": [
    {
     "name": "stdout",
     "output_type": "stream",
     "text": [
      "135\n"
     ]
    }
   ],
   "source": [
    "for i in range(100, 1000):\n",
    "    if i % 9 == 0 and i % 10 == 5:\n",
    "        print(i)\n",
    "        break"
   ],
   "metadata": {
    "collapsed": false,
    "pycharm": {
     "name": "#%%\n"
    }
   }
  },
  {
   "cell_type": "markdown",
   "source": [
    "## 2.编写一个程序模拟硬币的投掷。\n",
    "- 假设0表示硬币的反面,1表示硬币的正面。\n",
    "- 在程序中让计算机随机产生0或1若干次(比如100000次),并统计输出正面和反面各自出现的次数。\n",
    "- 如果程序比较逼真地模拟硬币的投掷,那么硬币两面出现的次数应该是差不多的。\n",
    "- 提示:使用import random导入随机库,使用random.randint(0,1)或者random.choice([0, 1])随机产生0和1。"
   ],
   "metadata": {
    "collapsed": false
   }
  },
  {
   "cell_type": "code",
   "execution_count": 2,
   "outputs": [
    {
     "name": "stdout",
     "output_type": "stream",
     "text": [
      "0的个数:49850\n",
      "1的个数:50150\n"
     ]
    }
   ],
   "source": [
    "import random\n",
    "\n",
    "sum0 = 0\n",
    "sum1 = 0\n",
    "\n",
    "for i in range(100000):\n",
    "    t = random.randint(0, 1)\n",
    "    if t == 0:\n",
    "        sum0 += 1\n",
    "    else:\n",
    "        sum1 += 1\n",
    "print(\"0的个数:\" + str(sum0))\n",
    "print(\"1的个数:\" + str(sum1))"
   ],
   "metadata": {
    "collapsed": false,
    "pycharm": {
     "name": "#%%\n"
    }
   }
  },
  {
   "cell_type": "markdown",
   "source": [
    "## 3.猜数游戏。\n",
    "- 在程序中使用随机库random让计算机随机产生一个预设整数，范围在0~100之间。\n",
    "- 让用户通过键盘输入所猜的数，如果大于预设的数，显示“遗憾,太大了”；\n",
    "- 小于预设的数,显示“遗憾,太小了”，\n",
    "- 如此循环，直至猜中该数，显示“预测N次,你猜中了!”，其中N是用户输入数字的次数。\n",
    "- 提示：\n",
    "    - 1）因为并不知道具体的循环次数，所以本题使用while循环结构较为合适。\n",
    "    - 2）产生一个0~100之间的随机整数，使用random.randint(0, 100)。注意使用random库之前先使用import random导入该库。"
   ],
   "metadata": {
    "collapsed": false
   }
  },
  {
   "cell_type": "code",
   "execution_count": 6,
   "outputs": [
    {
     "name": "stdout",
     "output_type": "stream",
     "text": [
      "遗憾,太大了\n",
      "遗憾,太大了\n",
      "遗憾,太小了\n",
      "遗憾,太小了\n",
      "预测5次,你猜中了\n"
     ]
    }
   ],
   "source": [
    "import random\n",
    "\n",
    "answer = random.randint(0, 100)\n",
    "N = 0\n",
    "while True:\n",
    "    number = int(input(\"请输入猜数:\"))\n",
    "    if number > answer:\n",
    "        N += 1\n",
    "        print(\"遗憾,太大了\")\n",
    "    elif number < answer:\n",
    "        N += 1\n",
    "        print(\"遗憾,太小了\")\n",
    "    else:\n",
    "        N += 1\n",
    "        print(\"预测%d次,你猜中了!\" % N)\n",
    "        break"
   ],
   "metadata": {
    "collapsed": false,
    "pycharm": {
     "name": "#%%\n"
    }
   }
  }
 ],
 "metadata": {
  "kernelspec": {
   "display_name": "Python 3",
   "language": "python",
   "name": "python3"
  },
  "language_info": {
   "codemirror_mode": {
    "name": "ipython",
    "version": 2
   },
   "file_extension": ".py",
   "mimetype": "text/x-python",
   "name": "python",
   "nbconvert_exporter": "python",
   "pygments_lexer": "ipython2",
   "version": "2.7.6"
  }
 },
 "nbformat": 4,
 "nbformat_minor": 0
}