{
 "cells": [
  {
   "cell_type": "markdown",
   "metadata": {
    "collapsed": true,
    "pycharm": {
     "name": "#%% md\n"
    }
   },
   "source": [
    "# Assignment - 10"
   ]
  },
  {
   "cell_type": "markdown",
   "source": [
    "## 1.编程题\n",
    "\n",
    "- 一个整数,它加上100后是一个完全平方数,加上268也是一个完全平方数,请问该数是多少?\n",
    "- 输出10000以内这样的数,共3个:21、261、1581。\n",
    "- 【提示】如果一个数n,开平方后取整为m,如果m*m与n相等,则n就是一个完全平方数。"
   ],
   "metadata": {
    "collapsed": false,
    "pycharm": {
     "name": "#%% md\n"
    }
   }
  },
  {
   "cell_type": "code",
   "execution_count": 4,
   "outputs": [
    {
     "name": "stdout",
     "output_type": "stream",
     "text": [
      "21\n",
      "261\n",
      "1581\n"
     ]
    }
   ],
   "source": [
    "import math\n",
    "\n",
    "for i in range(0, 10001):\n",
    "    a = int(math.sqrt(i + 100))\n",
    "    b = int(math.sqrt(i + 268))\n",
    "    if a * a == i + 100 and b * b == i + 268:\n",
    "        print(i)"
   ],
   "metadata": {
    "collapsed": false,
    "pycharm": {
     "name": "#%%\n"
    }
   }
  },
  {
   "cell_type": "markdown",
   "source": [
    "## 2.编程题\n",
    "\n",
    "- 定义列表students存储下表，\n",
    "\n",
    "|姓名|性别|年龄|籍贯|\n",
    "|:-:|:-:|:-:|:-:|\n",
    "|张山|男|18|江苏南京|\n",
    "|李诗|女|19|山东济南|\n",
    "|王武|男|20|江苏镇江|\n",
    "\n",
    "- 并实现：\n",
    "    - 1）输出所有学生的姓名和年龄；\n",
    "    - 2）输出所有男生的姓名和籍贯；\n",
    "    - 3）统计江苏省的学生人数；\n",
    "    - 4）求学生的平均年龄。"
   ],
   "metadata": {
    "collapsed": false,
    "pycharm": {
     "name": "#%% md\n"
    }
   }
  },
  {
   "cell_type": "code",
   "execution_count": 14,
   "outputs": [
    {
     "name": "stdout",
     "output_type": "stream",
     "text": [
      "姓名:张山 年龄:18\n",
      "姓名:李诗 年龄:19\n",
      "姓名:王武 年龄:20\n",
      "姓名:张山 籍贯:江苏南京\n",
      "姓名:王武 籍贯:江苏镇江\n",
      "统计江苏省的学生人数: 2人\n",
      "学生的平均年龄: 19岁\n"
     ]
    }
   ],
   "source": [
    "myList = [\n",
    "    {\n",
    "        \"姓名\": \"张山\",\n",
    "        \"性别\": \"男\",\n",
    "        \"年龄\": \"18\",\n",
    "        \"籍贯\": \"江苏南京\"\n",
    "    },\n",
    "    {\n",
    "        \"姓名\": \"李诗\",\n",
    "        \"性别\": \"女\",\n",
    "        \"年龄\": \"19\",\n",
    "        \"籍贯\": \"山东济南\"\n",
    "    },\n",
    "    {\n",
    "        \"姓名\": \"王武\",\n",
    "        \"性别\": \"男\",\n",
    "        \"年龄\": \"20\",\n",
    "        \"籍贯\": \"江苏镇江\"\n",
    "    }\n",
    "]\n",
    "\n",
    "for i in myList:\n",
    "    print(\"姓名:\" + i['姓名'] + \" \" + \"年龄:\" + i['年龄'])\n",
    "\n",
    "for i in myList:\n",
    "    if i['性别'] == '男':\n",
    "        print(\"姓名:\" + i['姓名'] + \" \" + \"籍贯:\" + i['籍贯'])\n",
    "\n",
    "count = 0\n",
    "for i in myList:\n",
    "    if i['籍贯'][0] == '江' and i['籍贯'][1] == '苏':\n",
    "        count += 1\n",
    "print(\"统计江苏省的学生人数: %d人\" % count)\n",
    "\n",
    "total_age = 0\n",
    "for i in myList:\n",
    "    total_age += int(i['年龄'])\n",
    "print(\"学生的平均年龄: %d岁\" % (total_age / len(myList)))"
   ],
   "metadata": {
    "collapsed": false,
    "pycharm": {
     "name": "#%%\n"
    }
   }
  }
 ],
 "metadata": {
  "kernelspec": {
   "display_name": "Python 3",
   "language": "python",
   "name": "python3"
  },
  "language_info": {
   "codemirror_mode": {
    "name": "ipython",
    "version": 2
   },
   "file_extension": ".py",
   "mimetype": "text/x-python",
   "name": "python",
   "nbconvert_exporter": "python",
   "pygments_lexer": "ipython2",
   "version": "2.7.6"
  }
 },
 "nbformat": 4,
 "nbformat_minor": 0
}