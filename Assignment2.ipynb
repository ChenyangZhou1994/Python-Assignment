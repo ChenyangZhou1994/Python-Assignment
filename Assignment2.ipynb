{
 "cells": [
  {
   "cell_type": "markdown",
   "metadata": {
    "collapsed": true,
    "pycharm": {
     "name": "#%% md\n"
    }
   },
   "source": [
    "# Assignment - 2"
   ]
  },
  {
   "cell_type": "markdown",
   "metadata": {},
   "source": [
    "## 1.给定字符串\"www.njtech.edu.cn\",操作要求如下:\n",
    "- 1)输出第一个字符。\n",
    "- 2)输出前三个字符。\n",
    "- 3)输出最后一个字符。\n",
    "- 4)输出最后两个字符。\n",
    "- 5)使用index或find函数,输出“njtech”首次出现的位置。\n",
    "- 6)使用count函数,输出字符“n”出现的次数。\n",
    "- 7)使用replace函数,将字符串中的“.”替换为“-”,输出结果应为“www-njtech-edu-cn”。\n",
    "- 8)使用upper函数,将字符串中所有字母转换为大写字母并输出。\n",
    "- 9)使用split函数,将字符串按照“.”分隔为4个子串并输出分隔结果。"
   ]
  },
  {
   "cell_type": "code",
   "execution_count": 17,
   "metadata": {
    "pycharm": {
     "name": "#%%\n"
    }
   },
   "outputs": [
    {
     "name": "stdout",
     "output_type": "stream",
     "text": [
      "w\n",
      "www\n",
      "n\n",
      "cn\n",
      "4\n",
      "2\n",
      "www-njtech-edu-cn\n",
      "WWW.NJTECH.EDU.CN\n",
      "['www', 'njtech', 'edu', 'cn']\n"
     ]
    }
   ],
   "source": [
    "s = \"www.njtech.edu.cn\"\n",
    "#1.输出第一个字符\n",
    "print(s[0])\n",
    "#2.输出前三个字符\n",
    "print(s[:3])\n",
    "#3.输出最后一个字符\n",
    "print(s[-1])\n",
    "#4.输出最后两个字符\n",
    "print(s[-2:])\n",
    "#5.使用index或find函数,输出“njtech”首次出现的位置\n",
    "print(s.index('njtech'))\n",
    "#6.使用count函数,输出字符“n”出现的次数\n",
    "print(s.count('n'))\n",
    "#7.使用replace函数,将字符串中的“.”替换为“-”,输出结果应为“www-njtech-edu-cn”\n",
    "print(s.replace('.', '-'))\n",
    "#8.使用upper函数,将字符串中所有字母转换为大写字母并输出\n",
    "print(s.upper())\n",
    "#9.使用split函数,将字符串按照“.”分隔为4个子串并输出分隔结果\n",
    "print(s.split('.'))"
   ]
  },
  {
   "cell_type": "markdown",
   "metadata": {
    "pycharm": {
     "name": "#%% md\n"
    }
   },
   "source": [
    "## 2.题目\n",
    "    编写程序，自动生成宿舍的组合名。从键盘上依次输入自己和室友的中文名，\n",
    "    把所有名字的最后一个字取出来并拼在一起，作为宿舍的组合名，然后输出。\n",
    "- 运行效果参考如下（假设有三个室友）。\n",
    "- 我的名字是：辗迟\n",
    "- 我第一个室友的名字是：千钧\n",
    "- 我第二个室友的名字是：游不动\n",
    "- 我第三个室友的名字是：归海\n",
    "- 我们的组合是：迟钧动海"
   ]
  },
  {
   "cell_type": "code",
   "execution_count": 19,
   "metadata": {
    "pycharm": {
     "name": "#%%\n"
    }
   },
   "outputs": [
    {
     "name": "stdout",
     "output_type": "stream",
     "text": [
      "我们的组合是:zcya\n"
     ]
    }
   ],
   "source": [
    "name = input(\"我的名字是:\")\n",
    "name1 = input(\"我第一个室友的名字是:\")\n",
    "name2 = input(\"我第二个室友的名字是:\")\n",
    "name3 = input(\"我第三个室友的名字是:\")\n",
    "groupName = name[-1] + name1[-1] + name2[-1] + name3[-1]\n",
    "print(\"我们的组合是:\" + groupName)"
   ]
  },
  {
   "cell_type": "markdown",
   "metadata": {},
   "source": [
    "## 3.题目\n",
    "    小明参加语文、数学和英语考试，输入小明的 3 门课程考试成绩，\n",
    "    求 3 门课程考试成绩的和、平均值以及最高分和最低分。\n",
    "    如果 3 门课程考试成绩分别以权重 0.5、0.3 和0.2 计入总评成绩，求小明的最终总评成绩是多少(保留1位小数)？\n",
    "    编写 Python 程序实现上述要求。"
   ]
  },
  {
   "cell_type": "code",
   "execution_count": 2,
   "metadata": {
    "pycharm": {
     "name": "#%%\n"
    }
   },
   "outputs": [],
   "source": [
    "chineseScore = input(\"语文成绩:\")\n",
    "mathScore = input(\"数学成绩:\")\n",
    "englishScore = input(\"英语成绩:\")\n",
    "chineseWeight = 0.5\n",
    "mathWeight = 0.3\n",
    "englishWeight =0.2\n"
   ]
  },
  {
   "cell_type": "markdown",
   "metadata": {},
   "source": [
    "## 4.输入一个三位数的整数，求这个三位数每一位上数字的和是多少。例如，\n",
    "- 输入：382，\n",
    "- 输出：和为 13。\n",
    "- 编写 Python 程序实现上述要求。"
   ]
  },
  {
   "cell_type": "code",
   "execution_count": 25,
   "metadata": {
    "pycharm": {
     "name": "#%%\n"
    }
   },
   "outputs": [
    {
     "name": "stdout",
     "output_type": "stream",
     "text": [
      "和为:13\n"
     ]
    }
   ],
   "source": [
    "number = input(\"输入:\")\n",
    "s = str(number)\n",
    "answer = 0\n",
    "for i in s:\n",
    "    answer += int(i)\n",
    "print('和为:' + str(answer))\n"
   ]
  }
 ],
 "metadata": {
  "kernelspec": {
   "name": "pycharm-5a30770",
   "language": "python",
   "display_name": "PyCharm (NJTU-Python-Assignment)"
  },
  "language_info": {
   "codemirror_mode": {
    "name": "ipython",
    "version": 3
   },
   "file_extension": ".py",
   "mimetype": "text/x-python",
   "name": "python",
   "nbconvert_exporter": "python",
   "pygments_lexer": "ipython3",
   "version": "3.8.8"
  }
 },
 "nbformat": 4,
 "nbformat_minor": 1
}