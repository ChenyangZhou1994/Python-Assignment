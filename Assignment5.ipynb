{
 "cells": [
  {
   "cell_type": "markdown",
   "source": [
    "# Assignment - 5"
   ],
   "metadata": {
    "collapsed": false
   }
  },
  {
   "cell_type": "markdown",
   "source": [
    "## 1.编程计算\n",
    "- 1 * 2 * 3 + 3 * 4 * 5 + 5 * 6 * 7 + ... + 99 * 100 * 101的值，结果应该为13002450。\n",
    "- 【提示】可使用range(1,100,2)产生[1,3,5,...99]迭代序列。可使用for...in...循环结构。"
   ],
   "metadata": {
    "collapsed": false
   }
  },
  {
   "cell_type": "code",
   "execution_count": 1,
   "outputs": [
    {
     "name": "stdout",
     "output_type": "stream",
     "text": [
      "13002450\n"
     ]
    }
   ],
   "source": [
    "sum = 0\n",
    "for i in range(1, 100, 2):\n",
    "    sum += i * (i + 1) * (i + 2)\n",
    "print(sum)"
   ],
   "metadata": {
    "collapsed": false,
    "pycharm": {
     "name": "#%%\n"
    }
   }
  },
  {
   "cell_type": "markdown",
   "source": [
    "## 2.求 s=a+aa+aaa+...+aaa...aaa的值\n",
    "- 其中a是1~9之间的某个数字，n是一个正整数。例如:若a=2，n=5，则s=2+22+222+2222+22222=24690。\n",
    "- 【提示】如何表示该多项式中的某一项呢?\n",
    "- 可利用字符串的乘法特性，比如\"2\"*2的值为\"22\", \"2\"*3的值为\"222\"。\n",
    "- 如果a=2，则第二项为int(str(a)*2)，第三项为int(str(a)*3)，\n",
    "- 第四项为int(str(a)*4)，第n项为int(str(a)*n)。"
   ],
   "metadata": {
    "collapsed": false
   }
  },
  {
   "cell_type": "code",
   "execution_count": 2,
   "outputs": [
    {
     "name": "stdout",
     "output_type": "stream",
     "text": [
      "24690\n"
     ]
    }
   ],
   "source": [
    "a = int(input(\"请输入a:\"))\n",
    "n = int(input(\"请输入n:\"))\n",
    "sum = 0\n",
    "for i in range(1, n + 1):\n",
    "    sum += int(str(a) * i)\n",
    "print(sum)"
   ],
   "metadata": {
    "collapsed": false,
    "pycharm": {
     "name": "#%%\n"
    }
   }
  },
  {
   "cell_type": "markdown",
   "source": [
    "## 3.编写程序输出\n",
    "- [10 , 2000] 范围内的回文数，要求每行输出5个。\n",
    "- 一个数和它的逆序数相等称之为回文数，如11,121,1221都是回文数。\n",
    "- 【提示】\n",
    "    - 1）如何求整数n的逆序数？\n",
    "    - 可以使用str函数先将n转换成字符串，\n",
    "    - 然后使用字符串的切片操作 [ : : -1] 获取逆序字符串，\n",
    "    - 再通过int函数将逆序字符串转为整数，该整数即为逆序数。\n",
    "    - 2）如何控制一行输出5个数后再换行？\n",
    "    - 可以定义一个计数变量count，每输出一个数后count加1，\n",
    "    - 如果count能被5整除，执行print()语句即可换行。\n",
    "    - 如下代码可将1到10的自然数按每行5个分成两行输出：\n",
    "    - ```Python\n",
    "      count = 0\n",
    "      for n in range(1, 11):\n",
    "        print(n, end='  ')\n",
    "        count += 1\n",
    "        if count % 5 == 0:\n",
    "            print()\n",
    "      ```\n"
   ],
   "metadata": {
    "collapsed": false
   }
  },
  {
   "cell_type": "code",
   "execution_count": 3,
   "outputs": [
    {
     "name": "stdout",
     "output_type": "stream",
     "text": [
      "11 22 33 44 55 \n",
      "66 77 88 99 101 \n",
      "111 121 131 141 151 \n",
      "161 171 181 191 202 \n",
      "212 222 232 242 252 \n",
      "262 272 282 292 303 \n",
      "313 323 333 343 353 \n",
      "363 373 383 393 404 \n",
      "414 424 434 444 454 \n",
      "464 474 484 494 505 \n",
      "515 525 535 545 555 \n",
      "565 575 585 595 606 \n",
      "616 626 636 646 656 \n",
      "666 676 686 696 707 \n",
      "717 727 737 747 757 \n",
      "767 777 787 797 808 \n",
      "818 828 838 848 858 \n",
      "868 878 888 898 909 \n",
      "919 929 939 949 959 \n",
      "969 979 989 999 1001 \n",
      "1111 1221 1331 1441 1551 \n",
      "1661 1771 1881 1991 "
     ]
    }
   ],
   "source": [
    "count = 0\n",
    "for i in range(10, 2000 + 1):\n",
    "    s = str(i)\n",
    "    if s == s[::-1]:\n",
    "        print(i, end=' ')\n",
    "        count += 1\n",
    "        if count % 5 == 0:\n",
    "            count = 0\n",
    "            print()"
   ],
   "metadata": {
    "collapsed": false,
    "pycharm": {
     "name": "#%%\n"
    }
   }
  }
 ],
 "metadata": {
  "kernelspec": {
   "display_name": "Python 3",
   "language": "python",
   "name": "python3"
  },
  "language_info": {
   "codemirror_mode": {
    "name": "ipython",
    "version": 2
   },
   "file_extension": ".py",
   "mimetype": "text/x-python",
   "name": "python",
   "nbconvert_exporter": "python",
   "pygments_lexer": "ipython2",
   "version": "2.7.6"
  }
 },
 "nbformat": 4,
 "nbformat_minor": 0
}