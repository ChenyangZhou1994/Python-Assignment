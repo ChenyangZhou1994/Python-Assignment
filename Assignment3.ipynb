{
 "cells": [
  {
   "cell_type": "markdown",
   "metadata": {
    "collapsed": true,
    "pycharm": {
     "name": "#%% md\n"
    }
   },
   "source": [
    "# Assignment - 3"
   ]
  },
  {
   "cell_type": "markdown",
   "source": [
    "## 1编写一个程序\n",
    "    现根据输入的x值,可求出y的值,并输出x和y的值,计算y值的数学公式为:\n",
    "    %%html\n",
    "    <img src=\"img/Assignment3-1.jpg\", width=60, height=600>"
   ],
   "metadata": {
    "collapsed": false
   }
  },
  {
   "cell_type": "code",
   "execution_count": 1,
   "outputs": [
    {
     "name": "stdout",
     "output_type": "stream",
     "text": [
      "输出y值:9.0\n"
     ]
    }
   ],
   "source": [
    "x = int(input(\"请输入x值\"))\n",
    "if x <= 25:\n",
    "    y = 1.5 * x + 7.5\n",
    "else:\n",
    "    y = 9.32 * x - 34.2\n",
    "print(\"输出y值:\" + str(y))"
   ],
   "metadata": {
    "collapsed": false,
    "pycharm": {
     "name": "#%%\n"
    }
   }
  },
  {
   "cell_type": "markdown",
   "source": [
    "## 2.编写程序\n",
    "    运行后用户输入4位整数作为年份,判断其是否为闰年。\n",
    "    如果年份能被400整除,则为闰年;或者如果年份能被4整除但不能被100整除,也为闰年。\n",
    "    比如2000、2016年都是闰年,1900、2017年不是闰年。"
   ],
   "metadata": {
    "collapsed": false
   }
  },
  {
   "cell_type": "code",
   "execution_count": 3,
   "outputs": [
    {
     "name": "stdout",
     "output_type": "stream",
     "text": [
      "2017不是闰年\n"
     ]
    }
   ],
   "source": [
    "year = int(input(\"请输入年份:\"))\n",
    "if (year % 4 == 0 and year % 100 !=0) or year % 400 == 0:\n",
    "    print(str(year) + \"是闰年\")\n",
    "else:\n",
    "    print(str(year) + \"不是闰年\")"
   ],
   "metadata": {
    "collapsed": false,
    "pycharm": {
     "name": "#%%\n"
    }
   }
  },
  {
   "cell_type": "markdown",
   "source": [
    "## 3.编写程序\n",
    "    实现分段函数的计算,分段函数的取值如下表所示。\n",
    "    %%html\n",
    "    <img src=\"img/Assignment3-3.jpg\", width=60, height=600>"
   ],
   "metadata": {
    "collapsed": false
   }
  },
  {
   "cell_type": "code",
   "execution_count": 4,
   "outputs": [
    {
     "name": "stdout",
     "output_type": "stream",
     "text": [
      "y值为:0\n"
     ]
    }
   ],
   "source": [
    "x = int(input(\"请输入x:\"))\n",
    "if x < 0 or x >= 20:\n",
    "    y = 0\n",
    "elif 0 <= x < 5:\n",
    "    y = x\n",
    "elif 5 <= x < 10:\n",
    "    y = 3 * x - 5\n",
    "elif 10 <= x < 20:\n",
    "    y = 0.5 * x - 2\n",
    "print(\"y值为:\" + str(y))"
   ],
   "metadata": {
    "collapsed": false,
    "pycharm": {
     "name": "#%%\n"
    }
   }
  },
  {
   "cell_type": "markdown",
   "source": [
    "## 4.编写程序\n",
    "    输入三个数,找出其中的最大数。"
   ],
   "metadata": {
    "collapsed": false
   }
  },
  {
   "cell_type": "code",
   "execution_count": 7,
   "outputs": [
    {
     "name": "stdout",
     "output_type": "stream",
     "text": [
      "从小到大为:1 2 3\n"
     ]
    }
   ],
   "source": [
    "a, b ,c = input(\"请输入3个数:\").split()\n",
    "a = int(a)\n",
    "b = int(b)\n",
    "c = int(c)\n",
    "if a > b:\n",
    "    a, b = b, a\n",
    "if a > c:\n",
    "    a, c = c, a\n",
    "if b > c:\n",
    "    b, c = c, b\n",
    "print(\"从小到大为:\" + str(a) + \" \" + str(b) + \" \" + str(c))"
   ],
   "metadata": {
    "collapsed": false,
    "pycharm": {
     "name": "#%%\n"
    }
   }
  }
 ],
 "metadata": {
  "kernelspec": {
   "name": "pycharm-5a30770",
   "language": "python",
   "display_name": "PyCharm (NJTU-Python-Assignment)"
  },
  "language_info": {
   "codemirror_mode": {
    "name": "ipython",
    "version": 2
   },
   "file_extension": ".py",
   "mimetype": "text/x-python",
   "name": "python",
   "nbconvert_exporter": "python",
   "pygments_lexer": "ipython2",
   "version": "2.7.6"
  }
 },
 "nbformat": 4,
 "nbformat_minor": 0
}