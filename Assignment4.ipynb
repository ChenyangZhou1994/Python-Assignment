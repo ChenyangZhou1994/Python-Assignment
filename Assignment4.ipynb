{
 "cells": [
  {
   "cell_type": "markdown",
   "metadata": {
    "collapsed": true,
    "pycharm": {
     "name": "#%% md\n"
    }
   },
   "source": [
    "# Assignment - 4"
   ]
  },
  {
   "cell_type": "markdown",
   "source": [
    "## 1.编写程序，计算1×2×3×┅×10。\n",
    "- 【提示】\n",
    "    - （1）累乘计算可以参考累加计算。\n",
    "    - （2）一般地，累乘的初值为1，累加的初值为0。"
   ],
   "metadata": {
    "collapsed": false
   }
  },
  {
   "cell_type": "code",
   "execution_count": 1,
   "outputs": [
    {
     "name": "stdout",
     "output_type": "stream",
     "text": [
      "3628800\n"
     ]
    }
   ],
   "source": [
    "result = 1\n",
    "for i in range(2, 11):\n",
    "    result = result * i\n",
    "print(result)"
   ],
   "metadata": {
    "collapsed": false,
    "pycharm": {
     "name": "#%%\n"
    }
   }
  },
  {
   "cell_type": "markdown",
   "source": [
    "## 2.编写程序，计算1+3+5+┅+99。"
   ],
   "metadata": {
    "collapsed": false
   }
  },
  {
   "cell_type": "code",
   "execution_count": 2,
   "outputs": [
    {
     "name": "stdout",
     "output_type": "stream",
     "text": [
      "2500\n"
     ]
    }
   ],
   "source": [
    "result = 0\n",
    "for i in range(1, 100, 2):\n",
    "    result = result + i\n",
    "print(result)"
   ],
   "metadata": {
    "collapsed": false,
    "pycharm": {
     "name": "#%%\n"
    }
   }
  },
  {
   "cell_type": "markdown",
   "source": [
    "## 3.编写程序\n",
    "- 输出1~100之间所有能被3整除，但不能被5整除的数。"
   ],
   "metadata": {
    "collapsed": false
   }
  },
  {
   "cell_type": "code",
   "execution_count": 3,
   "outputs": [
    {
     "name": "stdout",
     "output_type": "stream",
     "text": [
      "3\n",
      "6\n",
      "9\n",
      "12\n",
      "18\n",
      "21\n",
      "24\n",
      "27\n",
      "33\n",
      "36\n",
      "39\n",
      "42\n",
      "48\n",
      "51\n",
      "54\n",
      "57\n",
      "63\n",
      "66\n",
      "69\n",
      "72\n",
      "78\n",
      "81\n",
      "84\n",
      "87\n",
      "93\n",
      "96\n",
      "99\n"
     ]
    }
   ],
   "source": [
    "for i in range(1, 100):\n",
    "    if i % 3 == 0 and i % 5 != 0:\n",
    "        print(i)"
   ],
   "metadata": {
    "collapsed": false,
    "pycharm": {
     "name": "#%%\n"
    }
   }
  },
  {
   "cell_type": "markdown",
   "source": [
    "## 4.编写程序\n",
    "- 从键盘上输入10个整数，并求出这10个数中所有奇数之和、偶数之和及所有数的平均值。"
   ],
   "metadata": {
    "collapsed": false,
    "pycharm": {
     "name": "#%% md\n"
    }
   }
  },
  {
   "cell_type": "code",
   "execution_count": 4,
   "outputs": [
    {
     "name": "stdout",
     "output_type": "stream",
     "text": [
      "奇数之和25\n",
      "偶数之和20\n",
      "平均值4.5\n"
     ]
    }
   ],
   "source": [
    "sum1 = 0\n",
    "sum2 = 0\n",
    "for i in range(0, 10):\n",
    "    a = int(input(\"请输入第\"+ str(i + 1) + \"个数:\"))\n",
    "    if a % 2 == 0:\n",
    "        sum2 = sum2 + a\n",
    "    else:\n",
    "        sum1 = sum1 + a\n",
    "ave = (sum1 + sum2) / 10\n",
    "print(\"奇数之和\" + str(sum1))\n",
    "print(\"偶数之和\" + str(sum2))\n",
    "print(\"平均值\" + str(ave))\n"
   ],
   "metadata": {
    "collapsed": false,
    "pycharm": {
     "name": "#%%\n"
    }
   }
  }
 ],
 "metadata": {
  "kernelspec": {
   "display_name": "Python 3",
   "language": "python",
   "name": "python3"
  },
  "language_info": {
   "codemirror_mode": {
    "name": "ipython",
    "version": 2
   },
   "file_extension": ".py",
   "mimetype": "text/x-python",
   "name": "python",
   "nbconvert_exporter": "python",
   "pygments_lexer": "ipython2",
   "version": "2.7.6"
  }
 },
 "nbformat": 4,
 "nbformat_minor": 0
}