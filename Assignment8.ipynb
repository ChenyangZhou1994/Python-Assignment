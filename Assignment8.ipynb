{
 "cells": [
  {
   "cell_type": "markdown",
   "metadata": {
    "collapsed": true,
    "pycharm": {
     "name": "#%% md\n"
    }
   },
   "source": [
    "# Assignment - 8"
   ]
  },
  {
   "cell_type": "markdown",
   "source": [
    "## 1.编程题\n",
    "- 已知列表中存放10个互不相同的整数,找出该列表中的最大值,并与列表的最后一个元素对换。"
   ],
   "metadata": {
    "collapsed": false
   }
  },
  {
   "cell_type": "code",
   "execution_count": 4,
   "outputs": [
    {
     "name": "stdout",
     "output_type": "stream",
     "text": [
      "[1, 2, 3, 4, 5, 6, 7, 8, 9, 10]\n"
     ]
    }
   ],
   "source": [
    "a = [1, 2, 3, 4, 10, 6, 7, 8, 9, 5]\n",
    "max_num_index = a.index(max(a))\n",
    "a[max_num_index], a[-1] = a[-1], a[max_num_index]\n",
    "print(a)"
   ],
   "metadata": {
    "collapsed": false,
    "pycharm": {
     "name": "#%%\n"
    }
   }
  },
  {
   "cell_type": "markdown",
   "source": [
    "## 2.编程题\n",
    "\n",
    "- 已知列表中存放10个正整数,设计一个程序,找出最大的奇数和最大的偶数并输出。\n",
    "- (若没有偶数,输出“没有偶数!”;若没有奇数,输出“没有奇数!”)\n",
    "- 【提示】\n",
    "    - 1)可以定义两个最大值变量max1和max2,初值均为-1。\n",
    "    - 2)遍历列表元素,若当前元素为奇数,则和max1比较;若当前元素为偶数,则和max2比较。\n",
    "    - 3)循环结束后,max1若等于-1,则输出“没有奇数”,否则,max1中即为最大的奇数;max2若等于-1,则输出“没有偶数”,否则,max2中即为最大的偶数。"
   ],
   "metadata": {
    "collapsed": false
   }
  },
  {
   "cell_type": "code",
   "execution_count": 7,
   "outputs": [
    {
     "name": "stdout",
     "output_type": "stream",
     "text": [
      "最大奇数:9\n",
      "最大偶数:10\n"
     ]
    }
   ],
   "source": [
    "a = [1, 2, 3, 4, 10, 6, 7, 8, 9, 5]\n",
    "max1 = -1\n",
    "max2 = -1\n",
    "for i in a:\n",
    "    if i % 2 == 1 and i >= max1:\n",
    "        max1 = i\n",
    "    elif i % 2 == 0 and i>= max2:\n",
    "        max2 = i\n",
    "if max1 == -1:\n",
    "    print(\"没有奇数\")\n",
    "else:\n",
    "    print(\"最大奇数:%d\" % max1)\n",
    "if max2 == -1:\n",
    "    print(\"没有偶数\")\n",
    "else:\n",
    "    print(\"最大偶数:%d\" % max2)\n"
   ],
   "metadata": {
    "collapsed": false,
    "pycharm": {
     "name": "#%%\n"
    }
   }
  },
  {
   "cell_type": "markdown",
   "source": [
    "## 3.编程题\n",
    "\n",
    "- 斐波那契数列又称黄金分割数列、兔子序列，其第1、2项均为1，从第3项开始每一项都是前两项之和\n",
    "- 即1,1,2,3,5,8,13,21......。试编写程序，利用列表计算斐波那契数列的前30项，要求每行输出5个数。\n",
    "- 【提示】创建列表fib=[1, 1]，然后通过循环依次计算列表的第3~30项。"
   ],
   "metadata": {
    "collapsed": false
   }
  },
  {
   "cell_type": "code",
   "execution_count": 8,
   "outputs": [
    {
     "name": "stdout",
     "output_type": "stream",
     "text": [
      "[1, 1, 2, 3, 5, 8, 13, 21, 34, 55, 89, 144, 233, 377, 610, 987, 1597, 2584, 4181, 6765, 10946, 17711, 28657, 46368, 75025, 121393, 196418, 317811, 514229, 832040]\n"
     ]
    }
   ],
   "source": [
    "fib = [1, 1]\n",
    "for i in range(2, 30):\n",
    "    fib.append(fib[i - 1] + fib[i - 2])\n",
    "print(fib)\n"
   ],
   "metadata": {
    "collapsed": false,
    "pycharm": {
     "name": "#%%\n"
    }
   }
  }
 ],
 "metadata": {
  "kernelspec": {
   "display_name": "Python 3",
   "language": "python",
   "name": "python3"
  },
  "language_info": {
   "codemirror_mode": {
    "name": "ipython",
    "version": 2
   },
   "file_extension": ".py",
   "mimetype": "text/x-python",
   "name": "python",
   "nbconvert_exporter": "python",
   "pygments_lexer": "ipython2",
   "version": "2.7.6"
  }
 },
 "nbformat": 4,
 "nbformat_minor": 0
}