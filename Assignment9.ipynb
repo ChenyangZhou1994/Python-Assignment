{
 "cells": [
  {
   "cell_type": "code",
   "execution_count": null,
   "metadata": {
    "collapsed": true
   },
   "outputs": [],
   "source": [
    "# Assignment - 9"
   ]
  },
  {
   "cell_type": "markdown",
   "source": [
    "## 1.编程题\n",
    "- 以下是某电商卖家在售产品价目一览表。\n",
    "\n",
    "|产品名称|价格/元|\n",
    "|:-:|:-:|\n",
    "|方糖|99|\n",
    "|X1|499|\n",
    "|魔盒|399|\n",
    "|曲奇|299|\n",
    "\n",
    "- 试编写程序，实现以下功能：\n",
    "    - （1）使用字典 myDict 存放上表中的信息，产品名称作为键，价格作为值。\n",
    "    - （2）输出所有在售产品的价目表。格式为\n",
    "  ```python\n",
    "      方糖 ………… 99元\n",
    "      X1 ………… 499元\n",
    "      魔盒 ………… 399元\n",
    "      曲奇 ………… 299元\n",
    "  ```\n",
    "    - （3）输出所有产品的平均价格。\n",
    "    - （4）输出价格最高的产品名称。"
   ],
   "metadata": {
    "collapsed": false
   }
  },
  {
   "cell_type": "code",
   "execution_count": 17,
   "outputs": [
    {
     "name": "stdout",
     "output_type": "stream",
     "text": [
      "方糖 ………… 99元\n",
      "X1 ………… 499元\n",
      "魔盒 ………… 399元\n",
      "曲奇 ………… 299元\n",
      "所有产品的平均价格324.000000\n",
      "价格最高的产品名称X1\n"
     ]
    }
   ],
   "source": [
    "myDict = {\n",
    "    '方糖': '99',\n",
    "    'X1': '499',\n",
    "    '魔盒': '399',\n",
    "    '曲奇': '299'\n",
    "}\n",
    "max_price = -1\n",
    "max_name = \"\"\n",
    "sum_price = 0\n",
    "for key, value in myDict.items():\n",
    "    print(\"%s ………… %s元\" % (key, value))\n",
    "    price = int(value, base=10)\n",
    "    sum_price += price\n",
    "    if max_price < price:\n",
    "        max_price = price\n",
    "        max_name = key\n",
    "print(\"所有产品的平均价格%f\" % (sum_price / len(myDict)))\n",
    "print(\"价格最高的产品名称%s\" % max_name)"
   ],
   "metadata": {
    "collapsed": false,
    "pycharm": {
     "name": "#%%\n"
    }
   }
  },
  {
   "cell_type": "markdown",
   "source": [
    "## 2.编程题\n",
    "- （1）创建一个字典，存放所有已注册用户的用户名和密码，内容如下表所示。\n",
    "\n",
    "|用户名|密码|\n",
    "|:-:|:-:|\n",
    "|John|123|\n",
    "|Marry|111|\n",
    "|Tommy|123456|\n",
    "\n",
    "- （2）提示用户输入用户名和密码。\n",
    "- （3）依次对用户名和密码进行判断，并给出相应的提示。\n",
    "    - ① 若用户名输入错误，则提示“用户名不正确!”。\n",
    "    - ② 若密码输入错误，则提示“密码不正确！”。\n",
    "    - ③ 若用户名和密码均正确，则提示“登录成功！”\n",
    "- **提示**：\n",
    "    - 由于用户名是字典的键，所以可以使用in运算符判断用户名是否包含在字典中；\n",
    "    - 再通过字典的下标法取出密码，判断字典中的密码是否与输入的密码一致。"
   ],
   "metadata": {
    "collapsed": false,
    "pycharm": {
     "name": "#%% md\n"
    }
   }
  },
  {
   "cell_type": "code",
   "execution_count": 9,
   "outputs": [
    {
     "name": "stdout",
     "output_type": "stream",
     "text": [
      "登录成功!\n"
     ]
    }
   ],
   "source": [
    "dic = {\n",
    "    'John': '123',\n",
    "    'Mary': '111',\n",
    "    'Tommy': '123456'\n",
    "}\n",
    "\n",
    "username = input(\"请输入用户名\")\n",
    "password = input(\"请输入密码\")\n",
    "\n",
    "if username in dic and dic[username] == password:\n",
    "    print(\"登录成功!\")\n",
    "elif username in dic and dic[username] != password:\n",
    "    print(\"密码不正确!\")\n",
    "elif username not in dic:\n",
    "    print(\"用户名不正确!\")"
   ],
   "metadata": {
    "collapsed": false,
    "pycharm": {
     "name": "#%%\n"
    }
   }
  },
  {
   "cell_type": "markdown",
   "source": [
    "## 3.编程题\n",
    "- 假设字典 dic_city 中存放了每个人旅游过的城市，内容为\n",
    "{ \"张三风\": [\"北京\", \"成都\"],\n",
    "\n",
    "  \"李茉绸\": [\"上海\", \"广州\", \"兰州\"],\n",
    "\n",
    "  \"慕容福\": [\"太原\", \"西安\", \"济南\", \"上海\"]}。\n",
    "\n",
    "- 试编写程序，实现以下功能。\n",
    "    - （1）统计每个人旅游过的城市的数目。输出结果如下：\n",
    "        - 张三风去过 2 个城市\n",
    "        - 李茉绸去过 3 个城市\n",
    "        - 慕容福去过 4 个城市\n",
    "    - （2）统计去过上海的人数以及名单。输出结果如下：\n",
    "        - 去过上海的有 2 人,他们是李茉绸、慕容福"
   ],
   "metadata": {
    "collapsed": false
   }
  },
  {
   "cell_type": "code",
   "execution_count": 7,
   "outputs": [
    {
     "name": "stdout",
     "output_type": "stream",
     "text": [
      "张三风去过2个城市\n",
      "李茉绸去过3个城市\n",
      "慕容福去过4个城市\n",
      "去过上海的有2人,他们是李茉绸、慕容福\n"
     ]
    }
   ],
   "source": [
    "dic_city = {\n",
    "    \"张三风\": [\"北京\", \"成都\"],\n",
    "    \"李茉绸\": [\"上海\", \"广州\", \"兰州\"],\n",
    "    \"慕容福\": [\"太原\", \"西安\", \"济南\", \"上海\"]\n",
    "}\n",
    "\n",
    "names = []\n",
    "\n",
    "for key, values in dic_city.items():\n",
    "    print(\"%s去过%d个城市\" % (key, len(values)))\n",
    "    if \"上海\" in values:\n",
    "        names.append(key)\n",
    "print(\"去过上海的有%d人,他们是%s\" % (len(names), \"、\".join(name for name in names)))\n",
    "\n"
   ],
   "metadata": {
    "collapsed": false,
    "pycharm": {
     "name": "#%%\n"
    }
   }
  }
 ],
 "metadata": {
  "kernelspec": {
   "display_name": "Python 3",
   "language": "python",
   "name": "python3"
  },
  "language_info": {
   "codemirror_mode": {
    "name": "ipython",
    "version": 2
   },
   "file_extension": ".py",
   "mimetype": "text/x-python",
   "name": "python",
   "nbconvert_exporter": "python",
   "pygments_lexer": "ipython2",
   "version": "2.7.6"
  }
 },
 "nbformat": 4,
 "nbformat_minor": 0
}